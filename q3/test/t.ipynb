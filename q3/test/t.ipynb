{
 "cells": [
  {
   "cell_type": "code",
   "execution_count": null,
   "metadata": {},
   "outputs": [],
   "source": [
    "import pandas as pd\n",
    "import time"
   ]
  },
  {
   "cell_type": "code",
   "execution_count": null,
   "metadata": {},
   "outputs": [],
   "source": [
    "df=pd.read_csv(\"myFile0.csv\")\n",
    "df"
   ]
  },
  {
   "cell_type": "code",
   "execution_count": null,
   "metadata": {},
   "outputs": [],
   "source": [
    "import socket\n",
    "import struct\n",
    " \n",
    "def listen_for_ping(source_ip):\n",
    "    # Create a raw socket using AF_PACKET address family\n",
    "    sock = socket.socket(socket.AF_PACKET, socket.SOCK_RAW, socket.ntohs(3))\n",
    " \n",
    "    # Set the interface to loopback\n",
    "    sock.bind((\"lo\", 0))\n",
    " \n",
    "    while True:\n",
    "        # Receive a packet\n",
    "        packet, _ = sock.recvfrom(65535)\n",
    " \n",
    "        # Extract the IP header from the packet\n",
    "        ip_header = packet[14:34]\n",
    " \n",
    "        # Unpack the source and destination IP addresses from the header\n",
    "        source_address = socket.inet_ntoa(ip_header[12:16])\n",
    "        destination_address = socket.inet_ntoa(ip_header[16:20])\n",
    " \n",
    "        # Check if the packet is an ICMP ping from the specified source IP\n",
    "        if (\n",
    "            source_address == source_ip\n",
    "            and destination_address == \"127.0.0.1\"  # Loopback address\n",
    "            and packet[23] == 1  # ICMP protocol (1 is for ICMP)\n",
    "            and packet[34] == 8  # ICMP type 8 is Echo Request (ping)\n",
    "        ):\n",
    "            print(\"Received ping from\", source_ip)\n",
    " \n",
    "# Start listening for pings from 10.0.0.1 on the loopback interface\n",
    "listen_for_ping(\"10.0.0.1\")"
   ]
  },
  {
   "cell_type": "code",
   "execution_count": null,
   "metadata": {},
   "outputs": [],
   "source": [
    "tt = TicToc(start=False)\n",
    "# do some stuff\n",
    "# when ready\n",
    "tt.tic()"
   ]
  }
 ],
 "metadata": {
  "language_info": {
   "name": "python"
  }
 },
 "nbformat": 4,
 "nbformat_minor": 2
}
